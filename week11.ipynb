{
  "nbformat": 4,
  "nbformat_minor": 0,
  "metadata": {
    "colab": {
      "name": "week11.ipynb",
      "provenance": [],
      "collapsed_sections": [],
      "authorship_tag": "ABX9TyMW9MAA72P76JlOA5qf5hw5",
      "include_colab_link": true
    },
    "kernelspec": {
      "name": "python3",
      "display_name": "Python 3"
    },
    "language_info": {
      "name": "python"
    }
  },
  "cells": [
    {
      "cell_type": "markdown",
      "metadata": {
        "id": "view-in-github",
        "colab_type": "text"
      },
      "source": [
        "<a href=\"https://colab.research.google.com/github/Zwarzen/-02_praktikum_web_lanjut_satu/blob/master/week11.ipynb\" target=\"_parent\"><img src=\"https://colab.research.google.com/assets/colab-badge.svg\" alt=\"Open In Colab\"/></a>"
      ]
    },
    {
      "cell_type": "markdown",
      "source": [
        "# Object Detection\n",
        "\n",
        "metode yang digunakan :\n",
        "1. Template Matching\n",
        "2. Edge Detection\n",
        "3. Corner Detection\n",
        "4. Grid Detection\n",
        "5. Contour Detection\n"
      ],
      "metadata": {
        "id": "EWxvD4TYubRx"
      }
    },
    {
      "cell_type": "code",
      "execution_count": 1,
      "metadata": {
        "id": "R26rKyhytzIR"
      },
      "outputs": [],
      "source": [
        "# Import Lib\n",
        "import cv2 as cv\n",
        "import numpy as np\n",
        "from matplotlib import pyplot as plt"
      ]
    },
    {
      "cell_type": "code",
      "source": [
        "# akses drive\n",
        "from google.colab import drive\n",
        "\n",
        "drive.mount('/content/drive')"
      ],
      "metadata": {
        "colab": {
          "base_uri": "https://localhost:8080/"
        },
        "id": "aNsaUBPYuxTH",
        "outputId": "c84ea665-f800-47bf-c836-82c1d854b16a"
      },
      "execution_count": 2,
      "outputs": [
        {
          "output_type": "stream",
          "name": "stdout",
          "text": [
            "Mounted at /content/drive\n"
          ]
        }
      ]
    },
    {
      "cell_type": "markdown",
      "source": [
        "# Template Matching\n",
        "\n",
        "menggunakan lib opencv:\n",
        "\n",
        "cv.matchTemplate(), dengan param:\n",
        "\n",
        "- image: citra input \n",
        "- templ: template yang dicari, ukuran tidak boleh lebih besar dari input\n",
        "- method: metode dari template matching \n",
        "\n",
        "jenis metode template matching opencv: \n",
        "1. TM_SQDIFF\n",
        "2. TM_SQDIFF_NORMED\n",
        "3. TM_CCORR\n",
        "4. TM_CCORR_NORMED\n",
        "5. TM_CCOEFF\n",
        "6. TM_CCOEFF_NORMED"
      ],
      "metadata": {
        "id": "SJsqE_vJyPUp"
      }
    },
    {
      "cell_type": "code",
      "source": [
        "from __future__ import print_function\n",
        "import sys\n",
        "\n",
        "## [global_variables]\n",
        "use_mask = False\n",
        "img = ('/content/drive/MyDrive/Images/Object Detection/cats_and_bunnies.jpg')\n",
        "templ = ('/content/drive/MyDrive/Images/Object Detection/cat2_templatejpg.jpg')\n",
        "mask = None\n",
        "image_window = \"Source Image\"\n",
        "result_window = \"Result window\"\n",
        "\n",
        "match_method = 0\n",
        "max_Trackbar = 5\n",
        "\n",
        "## [global_variables]\n",
        "\n",
        "def main(argv):\n",
        "\n",
        "    if (len(sys.argv) < 3):\n",
        "        print('Parameter Tidak cukup')\n",
        "        print('Usage:\\nmatch_template_demo.py <nama_gambar> <nama_template> [<nama_mask>]')\n",
        "        return -1\n",
        "\n",
        "    ## [load_image]\n",
        "    global img\n",
        "    global templ\n",
        "    img = cv.imread(sys.argv[1], cv.IMREAD_COLOR)\n",
        "    templ = cv.imread(sys.argv[2], cv.IMREAD_COLOR)\n",
        "\n",
        "    if (len(sys.argv) > 3):\n",
        "        global use_mask\n",
        "        use_mask = True\n",
        "        global mask\n",
        "        mask = cv.imread( sys.argv[3], cv.IMREAD_COLOR )\n",
        "\n",
        "    if ((img is None) or (templ is None) or (use_mask and (mask is None))):\n",
        "        print('tidak bisa membaca gambar')\n",
        "        return -1\n",
        "    ## [load_image]\n",
        "\n",
        "    ## [create_windows]\n",
        "    cv.namedWindow( image_window, cv.WINDOW_AUTOSIZE )\n",
        "    cv.namedWindow( result_window, cv.WINDOW_AUTOSIZE )\n",
        "    ## [create_windows]\n",
        "\n",
        "    ## [create_trackbar]\n",
        "    trackbar_label = 'Method: \\n 0: SQDIFF \\n 1: SQDIFF NORMED \\n 2: TM CCORR \\n 3: TM CCORR NORMED \\n 4: TM COEFF \\n 5: TM COEFF NORMED'\n",
        "    cv.createTrackbar( trackbar_label, image_window, match_method, max_Trackbar, MatchingMethod )\n",
        "    ## [create_trackbar]\n",
        "\n",
        "    MatchingMethod(match_method)\n",
        "\n",
        "    ## [wait_key]\n",
        "    cv.waitKey(0)\n",
        "    return 0\n",
        "    ## [wait_key]\n",
        "\n",
        "def MatchingMethod(param):\n",
        "\n",
        "    global match_method\n",
        "    match_method = param\n",
        "\n",
        "    ## [copy_source]\n",
        "    img_display = img.copy()\n",
        "    ## [copy_source]\n",
        "    ## [match_template]\n",
        "    method_accepts_mask = (cv.TM_SQDIFF == match_method or match_method == cv.TM_CCORR_NORMED)\n",
        "    if (use_mask and method_accepts_mask):\n",
        "        result = cv.matchTemplate(img, templ, match_method, None, mask)\n",
        "    else:\n",
        "        result = cv.matchTemplate(img, templ, match_method)\n",
        "    ## [match_template]\n",
        "\n",
        "    ## [normalize]\n",
        "    cv.normalize( result, result, 0, 1, cv.NORM_MINMAX, -1 )\n",
        "    ## [normalize]\n",
        "    ## [best_match]\n",
        "    _minVal, _maxVal, minLoc, maxLoc = cv.minMaxLoc(result, None)\n",
        "    ## [best_match]\n",
        "\n",
        "    ## [match_loc]\n",
        "    if (match_method == cv.TM_SQDIFF or match_method == cv.TM_SQDIFF_NORMED):\n",
        "        matchLoc = minLoc\n",
        "    else:\n",
        "        matchLoc = maxLoc\n",
        "    ## [match_loc]\n",
        "\n",
        "    ## [imshow]\n",
        "    cv.rectangle(img_display, matchLoc, (matchLoc[0] + templ.shape[0], matchLoc[1] + templ.shape[1]), (0,0,0), 2, 8, 0 )\n",
        "    cv.rectangle(result, matchLoc, (matchLoc[0] + templ.shape[0], matchLoc[1] + templ.shape[1]), (0,0,0), 2, 8, 0 )\n",
        "    cv.imshow(image_window, img_display)\n",
        "    cv.imshow(result_window, result)\n",
        "    ## [imshow]\n",
        "    pass\n",
        "\n",
        "if __name__ == \"__main__\":\n",
        "    main(sys.argv[1:])"
      ],
      "metadata": {
        "colab": {
          "base_uri": "https://localhost:8080/"
        },
        "id": "U_fOFC2WyO52",
        "outputId": "d4c47165-685c-4c92-a768-932ff232ebc7"
      },
      "execution_count": 7,
      "outputs": [
        {
          "output_type": "stream",
          "name": "stdout",
          "text": [
            "tidak bisa membaca gambar\n"
          ]
        }
      ]
    },
    {
      "cell_type": "code",
      "source": [
        ""
      ],
      "metadata": {
        "id": "NUIJBetm28iE"
      },
      "execution_count": null,
      "outputs": []
    }
  ]
}