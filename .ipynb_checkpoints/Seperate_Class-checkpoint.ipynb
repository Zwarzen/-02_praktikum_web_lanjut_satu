{
 "cells": [
  {
   "cell_type": "code",
   "execution_count": 11,
   "metadata": {},
   "outputs": [
    {
     "name": "stdout",
     "output_type": "stream",
     "text": [
      "0\n",
      "[3.393533211, 2.331273381, 0]\n",
      "[3.110073483, 1.781539638, 0]\n",
      "[1.343808831, 3.368360954, 0]\n",
      "[3.582294042, 4.67917911, 0]\n",
      "[2.280362439, 2.866990263, 0]\n",
      "1\n",
      "[7.423436942, 4.696522875, 1]\n",
      "[5.745051997, 3.533989803, 1]\n",
      "[9.172168622, 2.511101045, 1]\n",
      "[7.792783481, 3.424088941, 1]\n",
      "[7.939820817, 0.791637231, 1]\n"
     ]
    }
   ],
   "source": [
    "# Example of separating data by class value\n",
    "\n",
    "# Split the dataset by class values, returns a dictionary\n",
    "def separate_by_class(dataset):\n",
    "    separated = dict()\n",
    "    for i in range(len(dataset)):\n",
    "        vector = dataset[i]\n",
    "        class_value = vector[-1]\n",
    "        if (class_value not in separated):\n",
    "            separated[class_value] = list()\n",
    "        separated[class_value].append(vector)\n",
    "    return separated\n",
    "\n",
    "# Test separating data by class\n",
    "dataset = [[3.393533211,2.331273381,0],\n",
    "    [3.110073483,1.781539638,0],\n",
    "    [1.343808831,3.368360954,0],\n",
    "    [3.582294042,4.67917911,0],\n",
    "    [2.280362439,2.866990263,0],\n",
    "    [7.423436942,4.696522875,1],\n",
    "    [5.745051997,3.533989803,1],\n",
    "    [9.172168622,2.511101045,1],\n",
    "    [7.792783481,3.424088941,1],\n",
    "    [7.939820817,0.791637231,1]]\n",
    "separated = separate_by_class(dataset)\n",
    "for label in separated:\n",
    "    print(label)\n",
    "    for row in separated[label]:\n",
    "        print(row)"
   ]
  },
  {
   "cell_type": "code",
   "execution_count": 21,
   "metadata": {},
   "outputs": [
    {
     "data": {
      "image/png": "[encoded data removed]",
      "text/plain": [
       "<Figure size 576x360 with 1 Axes>"
      ]
     },
     "metadata": {
      "needs_background": "light"
     },
     "output_type": "display_data"
    }
   ],
   "source": [
    "import matplotlib.pyplot as plt\n",
    "fig, ax = plt.subplots(figsize=(8,5)) \n",
    "\n",
    "# deklarasi array untuk data pada sumbu x dan sumbu y\n",
    "separatedx1 = []\n",
    "separatedx2 = []\n",
    "separatedy1 = []\n",
    "separatedy2 = []\n",
    "\n",
    "# memasukkan data dari dictionary separated ke array \n",
    "for i in range(len(separated)):\n",
    "    for j in range(len(separated[0])):\n",
    "        for k in range(len(separated[0][0])):\n",
    "            if i == 0:\n",
    "                if k == 0:\n",
    "                    separatedx1.append(separated[i][j][k]) \n",
    "                elif k == 1:\n",
    "                    separatedy1.append(separated[i][j][k]) \n",
    "            else:\n",
    "                if k == 0:\n",
    "                    separatedx2.append(separated[i][j][k])\n",
    "                elif k == 1:\n",
    "                    separatedy2.append(separated[i][j][k]) \n",
    "\n",
    "ax.scatter(separatedx1,separatedy1,label='0',marker=\"D\",s=100,color='blue')\n",
    "ax.scatter(separatedx2,separatedy2,label='1',marker=\"s\",s=100,color='red')\n",
    "\n",
    "#tentukan batas koordinat/axis \n",
    "ax.axis((0,10,0,5)) #(x-min,x-max,y-min,y-max)\n",
    "ax.set_yticks((0, 0.5, 1, 1.5, 2, 2.5, 3, 3.5, 4, 4.5, 5)) \n",
    "\n",
    "#buat legend\n",
    "ax.legend(loc=0) \n",
    "\n",
    "# tampilkan\n",
    "ax.grid(True)\n",
    "plt.show()"
   ]
  },
  {
   "cell_type": "code",
   "execution_count": null,
   "metadata": {},
   "outputs": [],
   "source": []
  }
 ],
 "metadata": {
  "kernelspec": {
   "display_name": "Python 3",
   "language": "python",
   "name": "python3"
  },
  "language_info": {
   "codemirror_mode": {
    "name": "ipython",
    "version": 3
   },
   "file_extension": ".py",
   "mimetype": "text/x-python",
   "name": "python",
   "nbconvert_exporter": "python",
   "pygments_lexer": "ipython3",
   "version": "3.8.3"
  }
 },
 "nbformat": 4,
 "nbformat_minor": 4
}
