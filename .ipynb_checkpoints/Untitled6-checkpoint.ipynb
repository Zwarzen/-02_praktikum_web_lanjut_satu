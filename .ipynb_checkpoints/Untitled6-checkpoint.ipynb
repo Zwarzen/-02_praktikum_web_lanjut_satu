{
 "cells": [
  {
   "cell_type": "code",
   "execution_count": 1,
   "metadata": {},
   "outputs": [
    {
     "ename": "SyntaxError",
     "evalue": "invalid syntax (<ipython-input-1-7726053322d7>, line 4)",
     "output_type": "error",
     "traceback": [
      "\u001b[1;36m  File \u001b[1;32m\"<ipython-input-1-7726053322d7>\"\u001b[1;36m, line \u001b[1;32m4\u001b[0m\n\u001b[1;33m    A(x,y) => B(x,y)\u001b[0m\n\u001b[1;37m            ^\u001b[0m\n\u001b[1;31mSyntaxError\u001b[0m\u001b[1;31m:\u001b[0m invalid syntax\n"
     ]
    }
   ],
   "source": []
  },
  {
   "cell_type": "code",
   "execution_count": 49,
   "metadata": {},
   "outputs": [
    {
     "ename": "IndentationError",
     "evalue": "unexpected indent (<ipython-input-49-f323f460e411>, line 4)",
     "output_type": "error",
     "traceback": [
      "\u001b[1;36m  File \u001b[1;32m\"<ipython-input-49-f323f460e411>\"\u001b[1;36m, line \u001b[1;32m4\u001b[0m\n\u001b[1;33m    A(x,y) => B(x,y)\u001b[0m\n\u001b[1;37m    ^\u001b[0m\n\u001b[1;31mIndentationError\u001b[0m\u001b[1;31m:\u001b[0m unexpected indent\n"
     ]
    }
   ],
   "source": [
    "1\n",
    "B(John,Bob)\n",
    "13\n",
    "A(x,y) => B(x,y)\n",
    "G(x,y) => B(x,y)\n",
    "C(c,d) => A(c,d)\n",
    "B(x,y) => G(x,y)\n",
    "F(y) => G(x,y)\n",
    "G(x,y) ^ F(y) => H(x,y)\n",
    "I(z) => F(z)\n",
    "F(z) => I(z)\n",
    "C(Jie,Joe)\n",
    "C(Melissa,Mary)\n",
    "G(John,Bob)\n",
    "I(Amy)\n",
    "F(Bob)\n",
    "fn=\"input.txt\"\n",
    "queries = []\n",
    "knowledge_base = []\n",
    "f1=open(fn, \"r\")\n",
    "input = f1.readlines()\n",
    "input = [x.strip() for x in input]\n",
    "\n",
    "for i in range(1, int(input[0]) + 1):\n",
    "    queries.append(input[i].replace(\" \", \"\"))\n",
    "for i in range(int(input[0]) + 2, int(input[int(input[0]) + 1]) + int(input[0]) + 2):\n",
    "    knowledge_base.append(input[i].replace(\" \", \"\"))\n",
    "knowledge_base = standardize_variables(knowledge_base)\n",
    "\n",
    "kb = {}\n",
    "list_of_predicates = []\n",
    "add_to_kb(knowledge_base)\n",
    "\n",
    "fileOut = open(\"output.txt\", \"w\")\n",
    "for query in queries:\n",
    "    result = fol_bc_ask(query, {})\n",
    "    if result != None:\n",
    "        print(\"True\", result)\n",
    "        fileOut.write(\"TRUE\" + \"\\n\")\n",
    "    else:\n",
    "        print(\"False\", result)\n",
    "        fileOut.write(\"FALSE\" + \"\\n\")\n",
    "\n",
    "fileOut.close()\n",
    "f1.close"
   ]
  },
  {
   "cell_type": "code",
   "execution_count": 47,
   "metadata": {},
   "outputs": [
    {
     "ename": "IndentationError",
     "evalue": "expected an indented block (<ipython-input-47-aae84f52b315>, line 20)",
     "output_type": "error",
     "traceback": [
      "\u001b[1;36m  File \u001b[1;32m\"<ipython-input-47-aae84f52b315>\"\u001b[1;36m, line \u001b[1;32m20\u001b[0m\n\u001b[1;33m    if item not in variable_names:\u001b[0m\n\u001b[1;37m    ^\u001b[0m\n\u001b[1;31mIndentationError\u001b[0m\u001b[1;31m:\u001b[0m expected an indented block\n"
     ]
    }
   ],
   "source": [
    "def standardize_variables(knowledge_base):\n",
    "    label = 0\n",
    "    result_knowledge_base = []\n",
    "    for rule in knowledge_base:\n",
    "        variable_names = {}\n",
    "    lhs = rule.partition('=>')[0]\n",
    "    rhs = rule.partition('=>')[2]\n",
    "    premise = []\n",
    "    for x in lhs.split('^'):\n",
    "        premise.append(x)\n",
    "    result_premise = \"\"\n",
    "    for term in premise:\n",
    "        args = []\n",
    "    result_term = \"\" + term.partition('(')[0]\n",
    "    temp = term.partition('(')[-1].rpartition(')')[0]\n",
    "    result_item = \"\"\n",
    "    for item in temp.split(','):\n",
    "        args.append(item) \n",
    "    if variable(item):\n",
    "    if item not in variable_names:\n",
    "        variable_names[item] = \"x\" + repr(label)\n",
    "    item = \"x\" + repr(label)\n",
    "    label = label + 1\n",
    "    else:\n",
    "    item = variable_names[item]\n",
    "    result_item = result_item + item + \",\"\n",
    "    result_item = result_item[:len(result_item) - 1]\n",
    "    result_term = result_term + '(' + result_item + ')' + '^'\n",
    "    result_premise = result_premise + result_term\n",
    "    result_premise = result_premise[:len(result_premise) - 1]\n",
    "\n",
    "    conclusion = []\n",
    "    for x in rhs.split('^'):\n",
    "    conclusion.append(x)\n",
    "    if conclusion != ['']:\n",
    "    result_premise = result_premise + \"=>\"\n",
    "    for term in conclusion:\n",
    "    args = []\n",
    "    result_term = \"\" + term.partition('(')[0]\n",
    "    temp = term.partition('(')[-1].rpartition(')')[0]\n",
    "    result_item = \"\"\n",
    "    for item in temp.split(','):\n",
    "    args.append(item)\n",
    "    if variable(item):\n",
    "        if item not in variable_names:\n",
    "        variable_names[item] = \"x\" + repr(label)\n",
    "        item = \"x\" + repr(label)\n",
    "        label = label + 1\n",
    "        else:\n",
    "        item = variable_names[item]\n",
    "        result_item = result_item + item + \",\"\n",
    "        result_item = result_item[:len(result_item) - 1]\n",
    "        result_term = result_term + '(' + result_item + ')' + '^'\n",
    "        result_premise = result_premise + result_term\n",
    "        result_premise = result_premise[:len(result_premise) - 1]\n",
    "\n",
    "        result_knowledge_base.append(result_premise)\n",
    "    return result_knowledge_base\n"
   ]
  },
  {
   "cell_type": "code",
   "execution_count": 45,
   "metadata": {},
   "outputs": [
    {
     "ename": "IndentationError",
     "evalue": "unexpected indent (<ipython-input-45-f2f07c31af3c>, line 6)",
     "output_type": "error",
     "traceback": [
      "\u001b[1;36m  File \u001b[1;32m\"<ipython-input-45-f2f07c31af3c>\"\u001b[1;36m, line \u001b[1;32m6\u001b[0m\n\u001b[1;33m    else:\u001b[0m\n\u001b[1;37m    ^\u001b[0m\n\u001b[1;31mIndentationError\u001b[0m\u001b[1;31m:\u001b[0m unexpected indent\n"
     ]
    }
   ],
   "source": []
  },
  {
   "cell_type": "code",
   "execution_count": null,
   "metadata": {},
   "outputs": [],
   "source": []
  }
 ],
 "metadata": {
  "kernelspec": {
   "display_name": "Python 3",
   "language": "python",
   "name": "python3"
  },
  "language_info": {
   "codemirror_mode": {
    "name": "ipython",
    "version": 3
   },
   "file_extension": ".py",
   "mimetype": "text/x-python",
   "name": "python",
   "nbconvert_exporter": "python",
   "pygments_lexer": "ipython3",
   "version": "3.8.3"
  }
 },
 "nbformat": 4,
 "nbformat_minor": 4
}
