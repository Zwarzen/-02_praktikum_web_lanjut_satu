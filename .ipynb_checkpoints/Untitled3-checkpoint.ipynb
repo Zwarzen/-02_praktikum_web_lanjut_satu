{
 "cells": [
  {
   "cell_type": "code",
   "execution_count": 1,
   "metadata": {},
   "outputs": [],
   "source": [
    "from collections import deque\n",
    "\n",
    "class Graph:\n",
    "    # example of adjacency list (or rather map)\n",
    "    # adjacency_list = {\n",
    "    # 'A': [('B', 1), ('C', 3), ('D', 7)],\n",
    "    # 'B': [('D', 5)],\n",
    "    # 'C': [('D', 12)]\n",
    "    # }\n",
    "\n",
    "    def __init__(self, adjacency_list):\n",
    "        self.adjacency_list = adjacency_list\n",
    "\n",
    "    def get_neighbors(self, v):\n",
    "        return self.adjacency_list[v]\n",
    "\n",
    "    # heuristic function with equal values for all nodes\n",
    "    def h(self, n):\n",
    "        H = {\n",
    "            'A': 1,\n",
    "            'B': 1,\n",
    "            'C': 1,\n",
    "            'D': 1\n",
    "        }\n",
    "\n",
    "        return H[n]\n",
    "\n",
    "    def a_star_algorithm(self, start_node, stop_node):\n",
    "        # open_list is a list of nodes which have been visited, but who's neighbors\n",
    "        # haven't all been inspected, starts off with the start node\n",
    "        # closed_list is a list of nodes which have been visited\n",
    "        # and who's neighbors have been inspected\n",
    "        open_list = set([start_node])\n",
    "        closed_list = set([])\n",
    "\n",
    "        # g contains current distances from start_node to all other nodes\n",
    "        # the default value (if it's not found in the map) is +infinity\n",
    "        g = {}\n",
    "\n",
    "        g[start_node] = 0\n",
    "\n",
    "        # parents contains an adjacency map of all nodes\n",
    "        parents = {}\n",
    "        parents[start_node] = start_node\n",
    "\n",
    "        while len(open_list) > 0:\n",
    "            n = None\n",
    "\n",
    "            # find a node with the lowest value of f() - evaluation function\n",
    "            for v in open_list:\n",
    "                if n == None or g[v] + self.h(v) < g[n] + self.h(n):\n",
    "                    n = v;\n",
    "\n",
    "            if n == None:\n",
    "                print('Path does not exist!')\n",
    "                return None\n",
    "\n",
    "            # if the current node is the stop_node\n",
    "            # then we begin reconstructin the path from it to the start_node\n",
    "            if n == stop_node:\n",
    "                reconst_path = []\n",
    "\n",
    "                while parents[n] != n:\n",
    "                    reconst_path.append(n)\n",
    "                    n = parents[n]\n",
    "\n",
    "                reconst_path.append(start_node)\n",
    "\n",
    "                reconst_path.reverse()\n",
    "\n",
    "                print('Path found: {}'.format(reconst_path))\n",
    "                return reconst_path\n",
    "\n",
    "            # for all neighbors of the current node do\n",
    "            for (m, weight) in self.get_neighbors(n):\n",
    "                # if the current node isn't in both open_list and closed_list\n",
    "                # add it to open_list and note n as it's parent\n",
    "                if m not in open_list and m not in closed_list:\n",
    "                    open_list.add(m)\n",
    "                    parents[m] = n\n",
    "                    g[m] = g[n] + weight\n",
    "\n",
    "                # otherwise, check if it's quicker to first visit n, then m\n",
    "                # and if it is, update parent data and g data\n",
    "                # and if the node was in the closed_list, move it to open_list\n",
    "                else:\n",
    "                    if g[m] > g[n] + weight:\n",
    "                        g[m] = g[n] + weight\n",
    "                        parents[m] = n\n",
    "\n",
    "                        if m in closed_list:\n",
    "                            closed_list.remove(m)\n",
    "                            open_list.add(m)\n",
    "\n",
    "            # remove n from the open_list, and add it to closed_list\n",
    "            # because all of his neighbors were inspected\n",
    "            open_list.remove(n)\n",
    "            closed_list.add(n)\n",
    "\n",
    "        print('Path does not exist!')\n",
    "        return None"
   ]
  },
  {
   "cell_type": "code",
   "execution_count": 2,
   "metadata": {},
   "outputs": [
    {
     "name": "stdout",
     "output_type": "stream",
     "text": [
      "Path found: ['A', 'B', 'D']\n"
     ]
    },
    {
     "data": {
      "text/plain": [
       "['A', 'B', 'D']"
      ]
     },
     "execution_count": 2,
     "metadata": {},
     "output_type": "execute_result"
    }
   ],
   "source": [
    "adjacency_list = {\n",
    "    'A': [('B', 1), ('C', 3), ('D', 7)],\n",
    "    'B': [('D', 5)],\n",
    "    'C': [('D', 12)]\n",
    "}\n",
    "graph1 = Graph(adjacency_list)\n",
    "graph1.a_star_algorithm('A', 'D')"
   ]
  },
  {
   "cell_type": "code",
   "execution_count": 5,
   "metadata": {},
   "outputs": [
    {
     "name": "stdout",
     "output_type": "stream",
     "text": [
      "27\n"
     ]
    }
   ],
   "source": [
    "def distancesum(x, y, n):\n",
    "    sum = 0\n",
    "    \n",
    "    for i in range (n):\n",
    "        for j in range(i+1,n):\n",
    "            sum += (abs(x[i]-x[j]) +\n",
    "                       abs(y[i] - y[j]))\n",
    "        \n",
    "    return sum\n",
    "\n",
    "x = [1,1,3,0]\n",
    "y = [5,6,5,0]\n",
    "n = len(x)\n",
    "print(distancesum(x, y, n) )"
   ]
  },
  {
   "cell_type": "code",
   "execution_count": 6,
   "metadata": {},
   "outputs": [
    {
     "name": "stdout",
     "output_type": "stream",
     "text": [
      "\n",
      "Jalur Dari A ke F :  ['A', 'C', 'D', 'E', 'F']\n"
     ]
    }
   ],
   "source": [
    "DAG = {'A':{'C':4,'G':9},\n",
    "    'G' :{'E':6},\n",
    "    'C' :{'D':6, 'H':12},\n",
    "    'D' :{'E':7},\n",
    "    'H' :{'F':15},\n",
    "    'E' :{'F':8},\n",
    "    'F' :{'B':5}}\n",
    "\n",
    "graph = {'A':{'C':4,'G':9},\n",
    "        'C' :{'D':6, 'H':12},\n",
    "        'D' :{'E':7},\n",
    "        'E' :{'F':8},\n",
    "        'F' :{'B':5},\n",
    "        'G' :{'E':6},\n",
    "        'H' :{'F':15}}\n",
    "\n",
    "def shortest_path(graph, source, dest):\n",
    "    result = []\n",
    "    result.append(source)\n",
    "    \n",
    "    while dest not in result:\n",
    "        current_node = result[-1]\n",
    "        local_max=min(graph[current_node].values())\n",
    "        for node, weight in graph[current_node].items():\n",
    "            if weight == local_max:\n",
    "                result.append(node)\n",
    "    return result\n",
    "\n",
    "a = shortest_path(graph,\"A\",\"F\")\n",
    "print(\"\\nJalur Dari A ke F : \",a)"
   ]
  },
  {
   "cell_type": "code",
   "execution_count": 7,
   "metadata": {},
   "outputs": [],
   "source": [
    "from operator import itemgetter, attrgetter\n",
    "w = [3,4,1,7,6,8,9]\n",
    "p = [4,5,2,5,5,8,11]\n",
    "item = [[3,4],[4,5],[1,2],[7,5],[6,5],[8,8],[9,11]]"
   ]
  },
  {
   "cell_type": "code",
   "execution_count": null,
   "metadata": {},
   "outputs": [],
   "source": [
    "i=0\n",
    "while i<len(item):\n",
    "    hasil = item[i][1]/item[i][0]\n",
    "    item[i].append(hasil)\n",
    "    i += 1\n",
    "\n",
    "\n",
    "data = sorted(item,key=itemgetter(2), reverse = True)\n",
    "\n",
    "\n",
    "def knapsack(data,cap,flag):\n",
    "    total=0\n",
    "    tres = \"\"\n",
    "    if(flag==0):\n",
    "        dataS = sorted(data,key=itemgetter(flag), reverse = True)\n",
    "        tres=\"bobot prioritas : \"\n",
    "    elif(flag==1):\n",
    "        dataS = sorted(data,key=itemgetter(flag), reverse = True)\n",
    "        tres=\"keuntungan prioritas : \"\n",
    "    elif(flag ==2):\n",
    "        dataS = sorted(data,key=itemgetter(flag), reverse = True)\n",
    "        tres=\"p prioritas : \"\n",
    "    else:\n",
    "        return \"Error\"\n",
    "\n",
    "    j=0\n",
    "    hasil=0\n",
    "    #print(\"sini\")\n",
    "    cek=0\n",
    "    weight=0\n",
    "    while(j<len(dataS)):\n",
    "        \n",
    "        if(cek+dataS[j][0]<=cap):\n",
    "            hasil=hasil+dataS[j][1]\n",
    "            weight=weight+dataS[j][0]\n",
    "            print(dataS[j][0])\n",
    "        cek=weight\n",
    "        j+=1;\n",
    "        #print(\"here\")\n",
    "    return(\"Optimal dalam \"+str(tres)+str(hasil))\n",
    "\n",
    "print(knapsack(item,20,0))\n",
    "print(knapsack(item,20,1))\n",
    "print(knapsack(item,20,2))"
   ]
  }
 ],
 "metadata": {
  "kernelspec": {
   "display_name": "Python 3",
   "language": "python",
   "name": "python3"
  },
  "language_info": {
   "codemirror_mode": {
    "name": "ipython",
    "version": 3
   },
   "file_extension": ".py",
   "mimetype": "text/x-python",
   "name": "python",
   "nbconvert_exporter": "python",
   "pygments_lexer": "ipython3",
   "version": "3.8.3"
  }
 },
 "nbformat": 4,
 "nbformat_minor": 4
}
