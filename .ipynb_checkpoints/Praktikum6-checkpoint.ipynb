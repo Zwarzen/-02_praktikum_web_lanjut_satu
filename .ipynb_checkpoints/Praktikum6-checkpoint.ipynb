{
 "cells": [
  {
   "cell_type": "code",
   "execution_count": 1,
   "metadata": {},
   "outputs": [],
   "source": [
    "ada_family = {\n",
    "    'Judith Blunt-Lytton': ['Anne Isabella Blunt', 'Wilfrid Scawen Blunt'],\n",
    "    'Ada King-Milbanke': ['Ralph King-Milbanke', 'Fanny Heriot'],\n",
    "    'Ralph King-Milbanke': ['Augusta Ada King', 'William King-Noel'],\n",
    "    'Anne Isabella Blunt': ['Augusta Ada King', 'William King-Noel'],\n",
    "    'Byron King-Noel': ['Augusta Ada King', 'William King-Noel'],\n",
    "    'Augusta Ada King': ['Anne Isabella-Milbanke', 'George Gordon Byron'],\n",
    "    'George Gordon Byron': ['Catherine Gordon', 'Captain John Byron'],\n",
    "    'John Byron': ['Vice-Admiral John Byron', 'Sophia Trevannion'] }"
   ]
  },
  {
   "cell_type": "code",
   "execution_count": 2,
   "metadata": {},
   "outputs": [],
   "source": [
    "def ancestors(genealogy, person):\n",
    "    list_of_ancestors=[]\n",
    "    \n",
    "    if person in genealogy:\n",
    "        list_of_ancestors = genealogy[person]\n",
    "        for e in genealogy[person]:\n",
    "            for i in ancestors(genealogy,e):\n",
    "                if i not in list_of_ancestors:\n",
    "                    list_of_ancestors += ancestors(genealogy,e)\n",
    "    else:\n",
    "        list_of_ancestors+=[]\n",
    "    \n",
    "    return list_of_ancestors"
   ]
  },
  {
   "cell_type": "code",
   "execution_count": 3,
   "metadata": {},
   "outputs": [
    {
     "name": "stdout",
     "output_type": "stream",
     "text": [
      "['Anne Isabella-Milbanke', 'George Gordon Byron', 'Catherine Gordon', 'Captain John Byron']\n",
      "['Anne Isabella Blunt', 'Wilfrid Scawen Blunt', 'Augusta Ada King', 'William King-Noel', 'Anne Isabella-Milbanke', 'George Gordon Byron', 'Catherine Gordon', 'Captain John Byron']\n",
      "[]\n"
     ]
    }
   ],
   "source": [
    "print (ancestors(ada_family, 'Augusta Ada King'))\n",
    "\n",
    "print (ancestors(ada_family, 'Judith Blunt-Lytton'))\n",
    "\n",
    "print (ancestors(ada_family, 'Dave'))"
   ]
  },
  {
   "cell_type": "code",
   "execution_count": null,
   "metadata": {},
   "outputs": [],
   "source": []
  }
 ],
 "metadata": {
  "kernelspec": {
   "display_name": "Python 3",
   "language": "python",
   "name": "python3"
  },
  "language_info": {
   "codemirror_mode": {
    "name": "ipython",
    "version": 3
   },
   "file_extension": ".py",
   "mimetype": "text/x-python",
   "name": "python",
   "nbconvert_exporter": "python",
   "pygments_lexer": "ipython3",
   "version": "3.8.3"
  }
 },
 "nbformat": 4,
 "nbformat_minor": 4
}
