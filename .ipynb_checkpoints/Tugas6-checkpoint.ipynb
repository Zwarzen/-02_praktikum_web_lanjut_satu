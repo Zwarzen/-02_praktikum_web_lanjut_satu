{
 "cells": [
  {
   "cell_type": "code",
   "execution_count": null,
   "metadata": {},
   "outputs": [],
   "source": [
    "ada_family = { 'Rofi': ['Anik', 'Lies', 'Fendi'],\n",
    "               'Setya': ['Anik', 'Lies', 'Fendi'], \n",
    "               'Didik': ['Lutfi', 'Andin'],\n",
    "               'Anik': ['Lutfi', 'Andin'],\n",
    "               'Lies': ['Hanan'],\n",
    "               'Fendi': ['Lia', 'Vano'],\n",
    "               'Ita': ['Lia', 'Vano'],\n",
    "               'Lutfi': ['Farhan', 'Arfan'],\n",
    "               'Andin' : ['Naura'] }"
   ]
  }
 ],
 "metadata": {
  "kernelspec": {
   "display_name": "Python 3",
   "language": "python",
   "name": "python3"
  },
  "language_info": {
   "codemirror_mode": {
    "name": "ipython",
    "version": 3
   },
   "file_extension": ".py",
   "mimetype": "text/x-python",
   "name": "python",
   "nbconvert_exporter": "python",
   "pygments_lexer": "ipython3",
   "version": "3.8.3"
  }
 },
 "nbformat": 4,
 "nbformat_minor": 4
}
